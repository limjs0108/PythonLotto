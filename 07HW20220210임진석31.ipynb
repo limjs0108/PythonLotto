{
  "nbformat": 4,
  "nbformat_minor": 0,
  "metadata": {
    "colab": {
      "name": "07HW20220210임진석31.ipynb",
      "provenance": [],
      "authorship_tag": "ABX9TyP/BwVSfeD4MNXm7oG1nu1G",
      "include_colab_link": true
    },
    "kernelspec": {
      "name": "python3",
      "display_name": "Python 3"
    },
    "language_info": {
      "name": "python"
    }
  },
  "cells": [
    {
      "cell_type": "markdown",
      "metadata": {
        "id": "view-in-github",
        "colab_type": "text"
      },
      "source": [
        "<a href=\"https://colab.research.google.com/github/limjs0108/PythonLotto/blob/master/07HW20220210%EC%9E%84%EC%A7%84%EC%84%9D31.ipynb\" target=\"_parent\"><img src=\"https://colab.research.google.com/assets/colab-badge.svg\" alt=\"Open In Colab\"/></a>"
      ]
    },
    {
      "cell_type": "code",
      "source": [
        "# 456\n",
        "\n",
        "import keyword\n",
        "print(keyword.iskeyword('Python'))\n",
        "\n",
        "# d"
      ],
      "metadata": {
        "id": "I3p95gH5qHzX"
      },
      "execution_count": null,
      "outputs": []
    },
    {
      "cell_type": "code",
      "source": [
        "# 457\n",
        "\n",
        "import random\n",
        "x = [3, 8, 6, 5, 0]\n",
        "print(random.choice(x))\n",
        "\n",
        "# a"
      ],
      "metadata": {
        "id": "_rXHHAS-qicr"
      },
      "execution_count": null,
      "outputs": []
    },
    {
      "cell_type": "code",
      "source": [
        "# 458\n",
        "\n",
        "import random\n",
        "x = [3,8,6,5,0]\n",
        "random.shuffle(x)\n",
        "print(x)\n",
        "\n",
        "# b"
      ],
      "metadata": {
        "id": "Xnn5BXK5q0Lb"
      },
      "execution_count": null,
      "outputs": []
    },
    {
      "cell_type": "code",
      "source": [
        "# 459\n",
        "\n",
        "import random\n",
        "x = [3,8,6,5,0]\n",
        "y = random.shuffle(x)\n",
        "print(y)\n",
        "\n",
        "# c"
      ],
      "metadata": {
        "id": "x6zeb5ZarW-w"
      },
      "execution_count": null,
      "outputs": []
    },
    {
      "cell_type": "code",
      "source": [
        "# 460\n",
        "import sys\n",
        "x = sys.stdout.write('Python Jobs')\n",
        "\n",
        "# b"
      ],
      "metadata": {
        "colab": {
          "base_uri": "https://localhost:8080/"
        },
        "id": "uMlOqsXXrYBG",
        "outputId": "dadc357b-6b7c-4452-95ea-58974ebafcf2"
      },
      "execution_count": 5,
      "outputs": [
        {
          "output_type": "stream",
          "name": "stdout",
          "text": [
            "Python Jobs"
          ]
        }
      ]
    },
    {
      "cell_type": "code",
      "source": [
        "# 461\n",
        "import time\n",
        "print(time.time())\n",
        "\n",
        "# a"
      ],
      "metadata": {
        "colab": {
          "base_uri": "https://localhost:8080/"
        },
        "id": "gdWxzOAzrl04",
        "outputId": "f1943fe1-a873-48ff-fec5-1275b306097b"
      },
      "execution_count": 8,
      "outputs": [
        {
          "output_type": "stream",
          "name": "stdout",
          "text": [
            "1644480694.6482415\n"
          ]
        }
      ]
    },
    {
      "cell_type": "code",
      "source": [
        "# 462\n",
        "import time\n",
        "print(time.time())\n",
        "\n",
        "# d"
      ],
      "metadata": {
        "id": "XM92szWysuQ2"
      },
      "execution_count": null,
      "outputs": []
    },
    {
      "cell_type": "code",
      "source": [
        "# 463\n",
        "import time\n",
        "print(time.asctime())\n",
        "\n",
        "# a"
      ],
      "metadata": {
        "colab": {
          "base_uri": "https://localhost:8080/"
        },
        "id": "CIgUxPSTsxR0",
        "outputId": "fe892641-161e-4c75-adc1-2c24013b344c"
      },
      "execution_count": 12,
      "outputs": [
        {
          "output_type": "stream",
          "name": "stdout",
          "text": [
            "Thu Feb 10 08:15:55 2022\n"
          ]
        }
      ]
    },
    {
      "cell_type": "code",
      "source": [
        "# 464\n",
        "import time\n",
        "print(time.asctime())\n",
        "\n",
        "# a"
      ],
      "metadata": {
        "id": "fmwJsB_ptCMw"
      },
      "execution_count": null,
      "outputs": []
    },
    {
      "cell_type": "code",
      "source": [
        "# 465\n",
        "import time\n",
        "y = (2016, 2, 10, 12, 45, 32, 5, 0, 0)\n",
        "print(time.asctime(y))\n",
        "\n",
        "# a"
      ],
      "metadata": {
        "colab": {
          "base_uri": "https://localhost:8080/"
        },
        "id": "qO8UWyrpt9Q9",
        "outputId": "30cee393-7406-4000-9c26-97031a583ddb"
      },
      "execution_count": 14,
      "outputs": [
        {
          "output_type": "stream",
          "name": "stdout",
          "text": [
            "Sat Feb 10 12:45:32 2016\n"
          ]
        }
      ]
    },
    {
      "cell_type": "code",
      "source": [
        "# 466\n",
        "import time\n",
        "y = time.asctime()\n",
        "print(y[:3])\n",
        "\n",
        "# c"
      ],
      "metadata": {
        "id": "UTJTYjQMuZiD"
      },
      "execution_count": null,
      "outputs": []
    },
    {
      "cell_type": "code",
      "source": [
        "# 467\n",
        "import random\n",
        "print(int(random.random()*10))\n",
        "\n",
        "# b"
      ],
      "metadata": {
        "id": "cwQ-7L5lusOU"
      },
      "execution_count": null,
      "outputs": []
    },
    {
      "cell_type": "code",
      "source": [
        "# 468\n",
        "import random\n",
        "print(int(random.random()*10) + 1)\n",
        "\n",
        "# d"
      ],
      "metadata": {
        "id": "ZwubpccMuvxu"
      },
      "execution_count": null,
      "outputs": []
    },
    {
      "cell_type": "code",
      "source": [
        "# 469\n",
        "import random\n",
        "print(random.sample(range(20),5))\n",
        "\n",
        "# a"
      ],
      "metadata": {
        "colab": {
          "base_uri": "https://localhost:8080/"
        },
        "id": "H1h5bb3Yu8bA",
        "outputId": "23134b55-1ce5-4b9f-9ecb-2ded3c0ddb7a"
      },
      "execution_count": 18,
      "outputs": [
        {
          "output_type": "stream",
          "name": "stdout",
          "text": [
            "[0, 19, 9, 13, 18]\n"
          ]
        }
      ]
    },
    {
      "cell_type": "code",
      "source": [
        "# 470\n",
        "import random\n",
        "print(random.sample(range(20),4))\n",
        "\n",
        "# c"
      ],
      "metadata": {
        "id": "rOjBPTNSvhY8"
      },
      "execution_count": null,
      "outputs": []
    },
    {
      "cell_type": "code",
      "source": [
        "# 471\n",
        "print(a)\n",
        "\n",
        "# d"
      ],
      "metadata": {
        "id": "fi-r9yxJvufT"
      },
      "execution_count": null,
      "outputs": []
    },
    {
      "cell_type": "code",
      "source": [
        "# 472\n",
        "a = \"Python Practice'\n",
        "\n",
        "# a"
      ],
      "metadata": {
        "id": "81Z6j1fgv4Fb"
      },
      "execution_count": null,
      "outputs": []
    },
    {
      "cell_type": "code",
      "source": [
        "# 473\n",
        "a = true\n",
        "\n",
        "# d"
      ],
      "metadata": {
        "colab": {
          "base_uri": "https://localhost:8080/",
          "height": 193
        },
        "id": "y17dkd20v6LV",
        "outputId": "eb1b74ea-01b7-4aae-8e28-afccf15ac984"
      },
      "execution_count": 21,
      "outputs": [
        {
          "output_type": "error",
          "ename": "NameError",
          "evalue": "ignored",
          "traceback": [
            "\u001b[0;31m---------------------------------------------------------------------------\u001b[0m",
            "\u001b[0;31mNameError\u001b[0m                                 Traceback (most recent call last)",
            "\u001b[0;32m<ipython-input-21-926eca8afc0e>\u001b[0m in \u001b[0;36m<module>\u001b[0;34m()\u001b[0m\n\u001b[1;32m      1\u001b[0m \u001b[0;31m# 473\u001b[0m\u001b[0;34m\u001b[0m\u001b[0;34m\u001b[0m\u001b[0;34m\u001b[0m\u001b[0m\n\u001b[0;32m----> 2\u001b[0;31m \u001b[0ma\u001b[0m \u001b[0;34m=\u001b[0m \u001b[0mtrue\u001b[0m\u001b[0;34m\u001b[0m\u001b[0;34m\u001b[0m\u001b[0m\n\u001b[0m",
            "\u001b[0;31mNameError\u001b[0m: name 'true' is not defined"
          ]
        }
      ]
    },
    {
      "cell_type": "code",
      "source": [
        "# 474\n",
        "\n",
        "# b"
      ],
      "metadata": {
        "id": "TyRMpUPJwE6U"
      },
      "execution_count": null,
      "outputs": []
    },
    {
      "cell_type": "code",
      "source": [
        "# 475\n",
        "def xyz():\n",
        "  a = 56\n",
        "\n",
        "xyz()\n",
        "print(a)\n",
        "\n",
        "# a"
      ],
      "metadata": {
        "colab": {
          "base_uri": "https://localhost:8080/",
          "height": 211
        },
        "id": "9G0sxJXowTb2",
        "outputId": "881c5820-f6b0-4b56-87ba-fd42b3fa3991"
      },
      "execution_count": 22,
      "outputs": [
        {
          "output_type": "error",
          "ename": "NameError",
          "evalue": "ignored",
          "traceback": [
            "\u001b[0;31m---------------------------------------------------------------------------\u001b[0m",
            "\u001b[0;31mNameError\u001b[0m                                 Traceback (most recent call last)",
            "\u001b[0;32m<ipython-input-22-72c4661ee17b>\u001b[0m in \u001b[0;36m<module>\u001b[0;34m()\u001b[0m\n\u001b[1;32m      4\u001b[0m \u001b[0;34m\u001b[0m\u001b[0m\n\u001b[1;32m      5\u001b[0m \u001b[0mxyz\u001b[0m\u001b[0;34m(\u001b[0m\u001b[0;34m)\u001b[0m\u001b[0;34m\u001b[0m\u001b[0;34m\u001b[0m\u001b[0m\n\u001b[0;32m----> 6\u001b[0;31m \u001b[0mprint\u001b[0m\u001b[0;34m(\u001b[0m\u001b[0ma\u001b[0m\u001b[0;34m)\u001b[0m\u001b[0;34m\u001b[0m\u001b[0;34m\u001b[0m\u001b[0m\n\u001b[0m",
            "\u001b[0;31mNameError\u001b[0m: name 'a' is not defined"
          ]
        }
      ]
    },
    {
      "cell_type": "code",
      "source": [
        "# Algorithm Homework\n",
        "# - 숫자 n 입력\n",
        "# - 피보나치 수열 리스트 fibo 생성\n",
        "#   - fibo[0]은 0 fibo[1]은 1 대입\n",
        "#   - i (= 2) 부터 n+1까지 반복\n",
        "#       - (fibo[i-1] + fibo[i-2]) 가 n보다 작은가?\n",
        "#           fibo.append(fibo[i-1] + fibo[i-2])\n",
        "#           i = i + 1\n",
        "#           ----------------------------------\n",
        "#           반복문 종료\n",
        "  \n",
        "\n",
        "n = int(input('n : '))  # 정수 입력\n",
        "fibo = [0,1]  # fibo리스트를 생성하고 0번째와 1번째에 각각 0과 1을 삽입\n",
        "for i in range(2,n+1):  # 피보나치 수열의 경우 처음엔 작기 때문에 반복문 끝 범위를 n으로 했을 때 n이 4인 경우에는 인덱스 번호보다 데이터 값이 더 커 리스트에 값이 담기지 않는다. 따라서 n + 1로 하였다.\n",
        "  if (fibo[i-1] + fibo[i-2] <= n): # n 이하까지의 피보나치 수열을 출력하기위한 조건\n",
        "    fibo.append(fibo[i-1] + fibo[i-2]) # 조건문 만족시 fibo리스트에 값을 추가\n",
        "  else:\n",
        "    break # 조건문 불 만족시 반복문 빠져나간다.\n",
        "\n",
        "print(fibo)"
      ],
      "metadata": {
        "colab": {
          "base_uri": "https://localhost:8080/"
        },
        "id": "J2I7ZWMwx9Iw",
        "outputId": "1964b57a-d66a-485c-d02c-ff73ced5436a"
      },
      "execution_count": 33,
      "outputs": [
        {
          "output_type": "stream",
          "name": "stdout",
          "text": [
            "n : 13\n",
            "[0, 1, 1, 2, 3, 5, 8, 13]\n"
          ]
        }
      ]
    }
  ]
}